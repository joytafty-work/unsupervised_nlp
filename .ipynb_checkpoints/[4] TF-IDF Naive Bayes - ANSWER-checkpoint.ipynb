{
 "metadata": {
  "name": ""
 },
 "nbformat": 3,
 "nbformat_minor": 0,
 "worksheets": [
  {
   "cells": [
    {
     "cell_type": "heading",
     "level": 1,
     "metadata": {},
     "source": [
      "Compute Term Frequence Inverse Document Frequency"
     ]
    },
    {
     "cell_type": "raw",
     "metadata": {},
     "source": [
      "Exercise 4.1: We will use the corpora from the last exercise to compute TF-IDF. First, load corpora from files using pickle"
     ]
    },
    {
     "cell_type": "code",
     "collapsed": false,
     "input": [
      "import pickle\n",
      "with open('./ted_mini/art_corpus.pkl', 'rb') as fa: \n",
      "    art_corpus = pickle.load(fa)\n",
      "with open('./ted_mini/sci_corpus.pkl', 'rb') as fs: \n",
      "    sci_corpus = pickle.load(fs)"
     ],
     "language": "python",
     "metadata": {},
     "outputs": [],
     "prompt_number": 6
    },
    {
     "cell_type": "raw",
     "metadata": {},
     "source": [
      "Exercise 4.2: \n",
      "Term Frequency counts number of time tokens appear in a document normalized by total number of words in document. \n",
      "Document Frequency counts number of documents containing a token normalized by total number of documents.\n",
      "\n",
      "Write functions that compute TF-IDF"
     ]
    },
    {
     "cell_type": "code",
     "collapsed": false,
     "input": [
      "## Write function to compute TF\n",
      "def tf(t, doc):\n",
      "    if type(doc) == list: \n",
      "        return float(doc.count(t))/float(len(doc))\n",
      "    elif type(doc) == str: \n",
      "        doc = text_to_bagofwords(doc)\n",
      "        return float(doc.count(t))/float(len(doc))\n",
      "    else: \n",
      "        return NaN\n",
      "\n",
      "def idf(t, corpus):\n",
      "    df = 0\n",
      "    for doc in corpus: \n",
      "        if doc.count(t) > 0: \n",
      "            df += 1\n",
      "            \n",
      "    return float(len(corpus))/float(df + 0.01)\n",
      "\n",
      "def tfidf(t, doc, corpus):\n",
      "    return tf(t, doc)*idf(t, corpus)"
     ],
     "language": "python",
     "metadata": {},
     "outputs": [],
     "prompt_number": 43
    },
    {
     "cell_type": "raw",
     "metadata": {},
     "source": [
      "Exercise 4.3: \n",
      "Compute average TFIDF of token \n",
      "    'brain', \n",
      "    'gene', \n",
      "    'dream', \n",
      "    'energy',\n",
      "    'draw'\n",
      "in art_corpus and in sci_corpus"
     ]
    },
    {
     "cell_type": "code",
     "collapsed": false,
     "input": [
      "\n",
      "for w in ['brain', 'gene', 'dream', 'energy', 'draw']:\n",
      "    avg_tfidf_art = mean(map(lambda x: tfidf(w, x, art_corpus), art_corpus))\n",
      "    avg_tfidf_sci = mean(map(lambda x: tfidf(w, x, sci_corpus), sci_corpus))\n",
      "\n",
      "    print \"Avg TF-IDF of `%s` in art_corpus : %.4f\" % (w, avg_tfidf_art)\n",
      "    print \"Avg TF-IDF of `%s` in sci_corpus : %.4f\" % (w, avg_tfidf_sci)\n"
     ],
     "language": "python",
     "metadata": {},
     "outputs": [
      {
       "output_type": "stream",
       "stream": "stdout",
       "text": [
        "Avg TF-IDF of `brain` in art_corpus : 0.0029\n",
        "Avg TF-IDF of `brain` in sci_corpus : 0.0092\n",
        "Avg TF-IDF of `gene` in art_corpus : 0.0040"
       ]
      },
      {
       "output_type": "stream",
       "stream": "stdout",
       "text": [
        "\n",
        "Avg TF-IDF of `gene` in sci_corpus : 0.0039\n",
        "Avg TF-IDF of `dream` in art_corpus : 0.0027"
       ]
      },
      {
       "output_type": "stream",
       "stream": "stdout",
       "text": [
        "\n",
        "Avg TF-IDF of `dream` in sci_corpus : 0.0011\n",
        "Avg TF-IDF of `energy` in art_corpus : 0.0027"
       ]
      },
      {
       "output_type": "stream",
       "stream": "stdout",
       "text": [
        "\n",
        "Avg TF-IDF of `energy` in sci_corpus : 0.0028\n",
        "Avg TF-IDF of `draw` in art_corpus : 0.0029"
       ]
      },
      {
       "output_type": "stream",
       "stream": "stdout",
       "text": [
        "\n",
        "Avg TF-IDF of `draw` in sci_corpus : 0.0005\n"
       ]
      }
     ],
     "prompt_number": 50
    },
    {
     "cell_type": "code",
     "collapsed": false,
     "input": [],
     "language": "python",
     "metadata": {},
     "outputs": [],
     "prompt_number": 42
    },
    {
     "cell_type": "code",
     "collapsed": false,
     "input": [],
     "language": "python",
     "metadata": {},
     "outputs": []
    }
   ],
   "metadata": {}
  }
 ]
}